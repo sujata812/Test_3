{
 "cells": [
  {
   "cell_type": "code",
   "execution_count": 1,
   "id": "43912afd",
   "metadata": {},
   "outputs": [
    {
     "name": "stdout",
     "output_type": "stream",
     "text": [
      "0\n"
     ]
    }
   ],
   "source": [
    "# Find minimum value of a list\n",
    "l=[5,4,1,2,9,0]\n",
    "minimum=min(l)\n",
    "print(minimum)\n"
   ]
  },
  {
   "cell_type": "code",
   "execution_count": 3,
   "id": "0f642157",
   "metadata": {},
   "outputs": [
    {
     "name": "stdout",
     "output_type": "stream",
     "text": [
      "1\n"
     ]
    }
   ],
   "source": [
    "# Using a loop\n",
    "list = [5, 2, 8, 1, 9, 3]\n",
    "min=list[0]\n",
    "for num in list:\n",
    "    if num<min:\n",
    "        min=num\n",
    "\n",
    "print(min)"
   ]
  },
  {
   "cell_type": "code",
   "execution_count": 4,
   "id": "2eaca7ed",
   "metadata": {},
   "outputs": [
    {
     "name": "stdout",
     "output_type": "stream",
     "text": [
      "5 10\n"
     ]
    }
   ],
   "source": [
    "a,b=5,10\n",
    "print(a,b)"
   ]
  },
  {
   "cell_type": "code",
   "execution_count": 5,
   "id": "de6b98ca",
   "metadata": {},
   "outputs": [
    {
     "ename": "NameError",
     "evalue": "name 'a' is not defined",
     "output_type": "error",
     "traceback": [
      "\u001b[1;31m---------------------------------------------------------------------------\u001b[0m",
      "\u001b[1;31mNameError\u001b[0m                                 Traceback (most recent call last)",
      "Cell \u001b[1;32mIn[5], line 2\u001b[0m\n\u001b[0;32m      1\u001b[0m \u001b[38;5;28;01mdel\u001b[39;00m(a)\n\u001b[1;32m----> 2\u001b[0m \u001b[38;5;28mprint\u001b[39m(a)\n",
      "\u001b[1;31mNameError\u001b[0m: name 'a' is not defined"
     ]
    }
   ],
   "source": [
    "del(a)\n",
    "print(a)"
   ]
  },
  {
   "cell_type": "code",
   "execution_count": 7,
   "id": "c6b41d3d",
   "metadata": {},
   "outputs": [
    {
     "name": "stdout",
     "output_type": "stream",
     "text": [
      "Variable   Type    Data/Info\n",
      "----------------------------\n",
      "b          int     10\n",
      "l          list    n=6\n",
      "list       list    n=6\n",
      "min        int     1\n",
      "minimum    int     0\n",
      "num        int     3\n"
     ]
    }
   ],
   "source": [
    "%whos"
   ]
  },
  {
   "cell_type": "code",
   "execution_count": 8,
   "id": "d247916f",
   "metadata": {},
   "outputs": [],
   "source": [
    "a=1\n",
    "b=2.5\n",
    "c='sujata'\n",
    "d=5+6j\n",
    "e=True"
   ]
  },
  {
   "cell_type": "code",
   "execution_count": 9,
   "id": "41c5189a",
   "metadata": {},
   "outputs": [
    {
     "name": "stdout",
     "output_type": "stream",
     "text": [
      "Variable   Type       Data/Info\n",
      "-------------------------------\n",
      "a          int        1\n",
      "b          float      2.5\n",
      "c          str        sujata\n",
      "d          complex    (5+6j)\n",
      "e          bool       True\n",
      "l          list       n=6\n",
      "list       list       n=6\n",
      "min        int        1\n",
      "minimum    int        0\n",
      "num        int        3\n"
     ]
    }
   ],
   "source": [
    "%whos"
   ]
  },
  {
   "cell_type": "code",
   "execution_count": 11,
   "id": "14cc81ae",
   "metadata": {},
   "outputs": [
    {
     "name": "stdout",
     "output_type": "stream",
     "text": [
      "6\n"
     ]
    }
   ],
   "source": [
    "print(round(5.6231))"
   ]
  },
  {
   "cell_type": "code",
   "execution_count": 14,
   "id": "6c022163",
   "metadata": {},
   "outputs": [
    {
     "name": "stdout",
     "output_type": "stream",
     "text": [
      "5.64\n"
     ]
    }
   ],
   "source": [
    "print(round(5.6354,2))"
   ]
  },
  {
   "cell_type": "markdown",
   "id": "6bf1c1e5",
   "metadata": {},
   "source": [
    "Python divmod() Function"
   ]
  },
  {
   "cell_type": "markdown",
   "id": "4a718d8f",
   "metadata": {},
   "source": [
    "The divmod() function is a built-in Python function that returns both the quotient and remainder when dividing two numbers. It's essentially a shortcut that combines integer division (//) and modulus (%) operations."
   ]
  },
  {
   "cell_type": "code",
   "execution_count": 15,
   "id": "17a60f21",
   "metadata": {},
   "outputs": [
    {
     "data": {
      "text/plain": [
       "(5, 2)"
      ]
     },
     "execution_count": 15,
     "metadata": {},
     "output_type": "execute_result"
    }
   ],
   "source": [
    "divmod(27,5)"
   ]
  },
  {
   "cell_type": "markdown",
   "id": "be02a3be",
   "metadata": {},
   "source": [
    " In this example, we are finding the index of the tuple (\"Bob\", 22) in a list of tuples and index() will return the position of its first occurrence."
   ]
  },
  {
   "cell_type": "code",
   "execution_count": 2,
   "id": "ed2893eb",
   "metadata": {},
   "outputs": [
    {
     "name": "stdout",
     "output_type": "stream",
     "text": [
      "1\n"
     ]
    }
   ],
   "source": [
    "l=[('Alice',21),('Bob',22),('Charlie',25),('Bob',24)]\n",
    "res = l.index(('Bob',22))\n",
    "print(res)"
   ]
  },
  {
   "cell_type": "markdown",
   "id": "fe2e897d",
   "metadata": {},
   "source": [
    "In this question, we'll take a look at inbuilt string methods like title(), swapcase(), find(), strip()."
   ]
  },
  {
   "cell_type": "markdown",
   "id": "5fdf5d57",
   "metadata": {},
   "source": [
    "Python String Functions: title(), swapcase(), find(), strip()"
   ]
  },
  {
   "cell_type": "markdown",
   "id": "d1e67cca",
   "metadata": {},
   "source": [
    "1. title() - Convert to Title Case"
   ]
  },
  {
   "cell_type": "code",
   "execution_count": 3,
   "id": "50a5dc81",
   "metadata": {},
   "outputs": [
    {
     "name": "stdout",
     "output_type": "stream",
     "text": [
      "Hi, My Name Is Sujata Pradhan\n"
     ]
    }
   ],
   "source": [
    "a='hi, my name is sujata pradhan'\n",
    "print(a.title())"
   ]
  },
  {
   "cell_type": "markdown",
   "id": "c950e82c",
   "metadata": {},
   "source": [
    "2. swapcase() - Swap Case: Swaps uppercase characters to lowercase and vice versa."
   ]
  },
  {
   "cell_type": "code",
   "execution_count": 4,
   "id": "2dc6256a",
   "metadata": {},
   "outputs": [
    {
     "name": "stdout",
     "output_type": "stream",
     "text": [
      "hI, mY nAME iS sUJATA pRADHAN\n"
     ]
    }
   ],
   "source": [
    "b='Hi, My Name Is Sujata Pradhan'\n",
    "print(b.swapcase())"
   ]
  },
  {
   "cell_type": "markdown",
   "id": "8ceaeaaf",
   "metadata": {},
   "source": [
    "3. find() - Find Substring: Returns the lowest index of the substring if found, otherwise returns -1."
   ]
  },
  {
   "cell_type": "code",
   "execution_count": 5,
   "id": "84a505da",
   "metadata": {},
   "outputs": [
    {
     "name": "stdout",
     "output_type": "stream",
     "text": [
      "22\n"
     ]
    }
   ],
   "source": [
    "a='hi, my name is sujata pradhan'\n",
    "print(a.find('pradhan'))"
   ]
  },
  {
   "cell_type": "code",
   "execution_count": 6,
   "id": "91aab7e8",
   "metadata": {},
   "outputs": [
    {
     "name": "stdout",
     "output_type": "stream",
     "text": [
      "-1\n"
     ]
    }
   ],
   "source": [
    "a='hi, my name is sujata pradhan'\n",
    "print(a.find('friend'))"
   ]
  },
  {
   "cell_type": "markdown",
   "id": "10824720",
   "metadata": {},
   "source": [
    "4. strip() - Remove Whitespace: Removes leading and trailing whitespace (or specified characters)."
   ]
  },
  {
   "cell_type": "code",
   "execution_count": 8,
   "id": "2442cf65",
   "metadata": {},
   "outputs": [
    {
     "name": "stdout",
     "output_type": "stream",
     "text": [
      "Hi, my name is sujata pradhan\n"
     ]
    }
   ],
   "source": [
    "a=\"      Hi, my name is sujata pradhan       \"\n",
    "print(a.strip())"
   ]
  },
  {
   "cell_type": "code",
   "execution_count": 12,
   "id": "1ea82b0c",
   "metadata": {},
   "outputs": [
    {
     "name": "stdout",
     "output_type": "stream",
     "text": [
      "13\n"
     ]
    }
   ],
   "source": [
    "a=\"      Hi, my name is sujata pradhan       \"\n",
    "print(a.index(\"name\"))"
   ]
  },
  {
   "cell_type": "markdown",
   "id": "2019660b",
   "metadata": {},
   "source": [
    "S.lower(), S.upper(), S.startswith('string2'), and S.endswith('string2')"
   ]
  },
  {
   "cell_type": "code",
   "execution_count": 15,
   "id": "09c7b4ac",
   "metadata": {},
   "outputs": [
    {
     "name": "stdout",
     "output_type": "stream",
     "text": [
      "True\n"
     ]
    }
   ],
   "source": [
    "s=str(input('Write a string: '))\n",
    "print(s.startswith('gfg')==s.endswith('gfg'))"
   ]
  },
  {
   "cell_type": "code",
   "execution_count": 4,
   "id": "7bfd92b7",
   "metadata": {},
   "outputs": [
    {
     "name": "stdout",
     "output_type": "stream",
     "text": [
      "Yes\n"
     ]
    }
   ],
   "source": [
    "s=str(input('Write a string: '))\n",
    "if (s.startswith('gfg')==s.endswith('gfg')):\n",
    "    print('Yes')\n",
    "else:\n",
    "    print('No')"
   ]
  },
  {
   "cell_type": "code",
   "execution_count": 5,
   "id": "37c3662d",
   "metadata": {},
   "outputs": [
    {
     "name": "stdout",
     "output_type": "stream",
     "text": [
      "HELLO WORLD\n"
     ]
    }
   ],
   "source": [
    "a='hello world'\n",
    "print(a.upper())"
   ]
  },
  {
   "cell_type": "code",
   "execution_count": 6,
   "id": "708a199d",
   "metadata": {},
   "outputs": [
    {
     "name": "stdout",
     "output_type": "stream",
     "text": [
      "hello world\n"
     ]
    }
   ],
   "source": [
    "a='HEllo world'\n",
    "print(a.lower())"
   ]
  },
  {
   "cell_type": "code",
   "execution_count": null,
   "id": "e518899a",
   "metadata": {},
   "outputs": [],
   "source": []
  }
 ],
 "metadata": {
  "kernelspec": {
   "display_name": "base",
   "language": "python",
   "name": "python3"
  },
  "language_info": {
   "codemirror_mode": {
    "name": "ipython",
    "version": 3
   },
   "file_extension": ".py",
   "mimetype": "text/x-python",
   "name": "python",
   "nbconvert_exporter": "python",
   "pygments_lexer": "ipython3",
   "version": "3.11.4"
  }
 },
 "nbformat": 4,
 "nbformat_minor": 5
}
